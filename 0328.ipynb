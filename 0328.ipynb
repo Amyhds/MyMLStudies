{
 "cells": [
  {
   "cell_type": "code",
   "execution_count": null,
   "metadata": {},
   "outputs": [],
   "source": [
    "d = {(x, x + 1): x for x in range(10)}  # Create a dictionary with tuple keys\n",
    "t = (5, 6)        # Create a tuple\n",
    "print(type(t))    # Prints \"<class 'tuple'>\"\n",
    "print(d[t])       # Prints \"5\"\n",
    "print(d[(1, 2)])  # Prints \"1\""
   ]
  },
  {
   "cell_type": "code",
   "execution_count": 2,
   "metadata": {},
   "outputs": [
    {
     "name": "stdout",
     "output_type": "stream",
     "text": [
      "negative\n",
      "zero\n",
      "positive\n"
     ]
    }
   ],
   "source": [
    "def sign(x):\n",
    "    if x > 0:\n",
    "        return 'positive'\n",
    "    elif x < 0:\n",
    "        return 'negative'\n",
    "    else:\n",
    "        return 'zero'\n",
    "\n",
    "for x in [-1, 0, 1]:\n",
    "    print(sign(x))\n",
    "# Prints \"negative\", \"zero\", \"positive\""
   ]
  },
  {
   "cell_type": "code",
   "execution_count": 3,
   "metadata": {},
   "outputs": [
    {
     "name": "stdout",
     "output_type": "stream",
     "text": [
      "Hello, Bob\n",
      "HELLO, FRED!\n"
     ]
    }
   ],
   "source": [
    "def hello(name, loud=False):\n",
    "    if loud:\n",
    "        print('HELLO, %s!' % name.upper())\n",
    "    else:\n",
    "        print('Hello, %s' % name)\n",
    "\n",
    "hello('Bob') # Prints \"Hello, Bob\"\n",
    "hello('Fred', loud=True)  # Prints \"HELLO, FRED!\""
   ]
  },
  {
   "cell_type": "code",
   "execution_count": 4,
   "metadata": {},
   "outputs": [
    {
     "name": "stdout",
     "output_type": "stream",
     "text": [
      "Hello, Fred\n",
      "HELLO, FRED!\n"
     ]
    }
   ],
   "source": [
    "class Greeter(object):\n",
    "\n",
    "    # Constructor\n",
    "    def __init__(self, name):\n",
    "        self.name = name  # Create an instance variable\n",
    "\n",
    "    # Instance method\n",
    "    def greet(self, loud=False):\n",
    "        if loud:\n",
    "            print('HELLO, %s!' % self.name.upper())\n",
    "        else:\n",
    "            print('Hello, %s' % self.name)\n",
    "\n",
    "g = Greeter('Fred')  # Construct an instance of the Greeter class\n",
    "g.greet()            # Call an instance method; prints \"Hello, Fred\"\n",
    "g.greet(loud=True)   # Call an instance method; prints \"HELLO, FRED!\""
   ]
  },
  {
   "cell_type": "code",
   "execution_count": 50,
   "metadata": {},
   "outputs": [
    {
     "name": "stdout",
     "output_type": "stream",
     "text": [
      "<class 'numpy.ndarray'>\n",
      "(3,)\n",
      "1 2 3\n",
      "[5 2 3]\n",
      "(2, 3)\n",
      "60\n",
      "[[1 2 3]\n",
      " [4 5 5]]\n"
     ]
    }
   ],
   "source": [
    "import numpy as np\n",
    "\n",
    "a = np.array([1, 2, 3])   # Create a rank 1 array\n",
    "print(type(a))            # Prints \"<class 'numpy.ndarray'>\"\n",
    "print(a.shape)            # Prints \"(3,)\" 일차원이라는 소리\n",
    "print(a[0], a[1], a[2])   # Prints \"1 2 3\"\n",
    "a[0] = 5                  # Change an element of the array\n",
    "print(a)                  # Prints \"[5, 2, 3]\"\n",
    "\n",
    "b = np.array([[1,2,3],\n",
    "             [4,5,6]])    # Create a rank 2 array\n",
    "print(b.shape)                     # Prints \"(2, 3)\"\n",
    "b[1,2]=60\n",
    "print(b[1,2])\n",
    "b[1,2]=b[0,0]+b[1,0]\n",
    "print(b)\n",
    "# print(b[0, 0], b[0, 2], b[1, 0])   # Prints \"1 2 4\""
   ]
  },
  {
   "cell_type": "code",
   "execution_count": 34,
   "metadata": {},
   "outputs": [
    {
     "name": "stdout",
     "output_type": "stream",
     "text": [
      "[[0. 0.]\n",
      " [0. 0.]]\n",
      "[[1. 1.]]\n",
      "[[7 7]\n",
      " [7 7]]\n",
      "[[1. 0.]\n",
      " [0. 1.]]\n",
      "[[0.06977103 0.1130089 ]\n",
      " [0.06681682 0.85966791]]\n"
     ]
    }
   ],
   "source": [
    "import numpy as np\n",
    "\n",
    "a = np.zeros((2,2))   # Create an array of all zeros\n",
    "print(a)              # Prints \"[[ 0.  0.]\n",
    "                      #          [ 0.  0.]]\"\n",
    "\n",
    "b = np.ones((1,2))    # Create an array of all ones\n",
    "print(b)              # Prints \"[[ 1.  1.]]\"\n",
    "\n",
    "c = np.full((2,2), 7)  # Create a constant array\n",
    "print(c)               # Prints \"[[ 7.  7.]\n",
    "                       #          [ 7.  7.]]\"\n",
    "\n",
    "d = np.eye(2)         # Create a 2x2 identity matrix\n",
    "print(d)              # Prints \"[[ 1.  0.]\n",
    "                      #          [ 0.  1.]]\"\n",
    "\n",
    "e = np.random.random((2,2))  # Create an array filled with random values\n",
    "print(e)                     # Might print \"[[ 0.91940167  0.08143941]\n",
    "                             #               [ 0.68744134  0.87236687]]\""
   ]
  },
  {
   "cell_type": "code",
   "execution_count": 44,
   "metadata": {},
   "outputs": [
    {
     "name": "stdout",
     "output_type": "stream",
     "text": [
      "[[2 3]\n",
      " [6 7]]\n",
      "2\n",
      "[[77  3]\n",
      " [ 6  7]]\n",
      "77\n"
     ]
    }
   ],
   "source": [
    "import numpy as np\n",
    "\n",
    "# Create the following rank 2 array with shape (3, 4)\n",
    "# [[ 1  2  3  4]\n",
    "#  [ 5  6  7  8]\n",
    "#  [ 9 10 11 12]]\n",
    "a = np.array([[1,2,3,4], [5,6,7,8], [9,10,11,12]])\n",
    "\n",
    "# Use slicing to pull out the subarray consisting of the first 2 rows\n",
    "# and columns 1 and 2; b is the following array of shape (2, 2):\n",
    "# [[2 3]\n",
    "#  [6 7]]\n",
    "b = a[:2, 1:3]  # : 은 미만\n",
    "print(b)\n",
    "# A slice of an array is a view into the same data, so modifying it\n",
    "# will modify the original array.\n",
    "print(a[0, 1])   # Prints \"2\"\n",
    "b[0, 0] = 77     # b[0, 0] is the same piece of data as a[0, 1]\n",
    "print(b)        #오류난 이유는 위의 b랑 겹쳐서!!!\n",
    "print(a[0, 1])   # Prints \"77\""
   ]
  },
  {
   "cell_type": "code",
   "execution_count": 61,
   "metadata": {},
   "outputs": [
    {
     "name": "stdout",
     "output_type": "stream",
     "text": [
      "[[ 1  2  3  4]\n",
      " [ 5  6  7  8]\n",
      " [ 9 10 11 12]]\n",
      "[5 6 7 8] (4,)\n",
      "[[5 6 7 8]] (1, 4)\n",
      "[ 2  6 10] (3,)\n",
      "[[ 2]\n",
      " [ 6]\n",
      " [10]] (3, 1)\n"
     ]
    }
   ],
   "source": [
    "import numpy as np\n",
    "\n",
    "# Create the following rank 2 array with shape (3, 4)\n",
    "# [[ 1  2  3  4]\n",
    "#  [ 5  6  7  8]\n",
    "#  [ 9 10 11 12]]\n",
    "a = np.array([[1,2,3,4], [5,6,7,8], [9,10,11,12]])\n",
    "print(a)\n",
    "# Two ways of accessing the data in the middle row of the array.\n",
    "# Mixing integer indexing with slices yields an array of lower rank,\n",
    "# while using only slices yields an array of the same rank as the\n",
    "# original array:\n",
    "row_r1 = a[1, :]    # 첫번째 행-모든 열 Rank 1 view of the second row of a\n",
    "row_r2 = a[1:2, :]  # 1이상 2미만 행-모든 열 Rank 2 view of the second row of a\n",
    "print(row_r1, row_r1.shape)  # Prints \"[5 6 7 8] (4,)\"\n",
    "print(row_r2, row_r2.shape)  # Prints \"[[5 6 7 8]] (1, 4)\"\n",
    "\n",
    "# We can make the same distinction when accessing columns of an array:\n",
    "col_r1 = a[:, 1]\n",
    "col_r2 = a[:, 1:2]\n",
    "print(col_r1, col_r1.shape)  # Prints \"[ 2  6 10] (3,)\"\n",
    "print(col_r2, col_r2.shape)  # Prints \"[[ 2]\n",
    "                             #          [ 6]\n",
    "                             #          [10]] (3, 1)\""
   ]
  },
  {
   "cell_type": "code",
   "execution_count": 57,
   "metadata": {},
   "outputs": [
    {
     "name": "stdout",
     "output_type": "stream",
     "text": [
      "int32\n",
      "float64\n",
      "float64\n"
     ]
    }
   ],
   "source": [
    "import numpy as np\n",
    "\n",
    "x = np.array([1, 2])   # Let numpy choose the datatype\n",
    "print(x.dtype)         # Prints \"int64\"\n",
    "\n",
    "x = np.array([1.0, 2.0])   # Let numpy choose the datatype\n",
    "print(x.dtype)             # Prints \"float64\"\n",
    "\n",
    "x = np.array([1, 2], dtype=np.float64)   # Force a particular datatype\n",
    "print(x.dtype)                         # Prints \"int64\""
   ]
  },
  {
   "cell_type": "code",
   "execution_count": 64,
   "metadata": {},
   "outputs": [
    {
     "name": "stdout",
     "output_type": "stream",
     "text": [
      "[[ 6  8]\n",
      " [10 12]]\n",
      "[[-4 -4]\n",
      " [-4 -4]]\n",
      "[[ 5 12]\n",
      " [21 32]]\n",
      "[[0.2        0.33333333]\n",
      " [0.42857143 0.5       ]]\n",
      "[[1.         1.41421356]\n",
      " [1.73205081 2.        ]]\n"
     ]
    }
   ],
   "source": [
    "import numpy as np\n",
    "\n",
    "x = np.array([[1,2],[3,4]], dtype=np.int64)\n",
    "y = np.array([[5,6],[7,8]], dtype=np.int64)\n",
    "\n",
    "print(x + y)\n",
    "\n",
    "print(x - y)\n",
    "\n",
    "print(x * y)\n",
    "\n",
    "print(x / y)\n",
    "\n",
    "print(np.sqrt(x))"
   ]
  },
  {
   "cell_type": "code",
   "execution_count": 74,
   "metadata": {},
   "outputs": [
    {
     "name": "stdout",
     "output_type": "stream",
     "text": [
      "219\n",
      "219\n",
      "[29 67]\n",
      "[29 67]\n",
      "[[19 22]\n",
      " [43 50]]\n",
      "[[19 22]\n",
      " [43 50]]\n",
      "\n",
      "\n",
      "[[23 34]\n",
      " [31 46]]\n",
      "[[23 34]\n",
      " [31 46]]\n"
     ]
    }
   ],
   "source": [
    "import numpy as np\n",
    "\n",
    "x = np.array([[1,2],\n",
    "              [3,4]])\n",
    "y = np.array([[5,6],\n",
    "              [7,8]])\n",
    "\n",
    "v = np.array([9,10])\n",
    "w = np.array([11, 12])\n",
    "\n",
    "# Inner product of vectors; both produce 219\n",
    "print(v.dot(w))\n",
    "print(np.dot(v, w))\n",
    "\n",
    "# Matrix / vector product; both produce the rank 1 array [29 67]\n",
    "print(x.dot(v))\n",
    "print(np.dot(x, v))\n",
    "\n",
    "# Matrix / matrix product; both produce the rank 2 array\n",
    "# [[19 22]\n",
    "#  [43 50]]\n",
    "print(x.dot(y))\n",
    "print(np.dot(x, y))\n",
    "print(\"\\n\")\n",
    "print(y.dot(x))\n",
    "print(np.dot(y,x))"
   ]
  },
  {
   "cell_type": "code",
   "execution_count": 75,
   "metadata": {},
   "outputs": [
    {
     "name": "stdout",
     "output_type": "stream",
     "text": [
      "10\n",
      "[4 6]\n",
      "[3 7]\n"
     ]
    }
   ],
   "source": [
    "import numpy as np\n",
    "\n",
    "x = np.array([[1,2],\n",
    "              [3,4]])\n",
    "\n",
    "print(np.sum(x))  # Compute sum of all elements; prints \"10\"\n",
    "print(np.sum(x, axis=0))  # Compute sum of each column; prints \"[4 6]\"\n",
    "print(np.sum(x, axis=1))  # Compute sum of each row; prints \"[3 7]\""
   ]
  },
  {
   "cell_type": "code",
   "execution_count": null,
   "metadata": {},
   "outputs": [],
   "source": [
    "# Lab 4 Multi-variable linear regression\n",
    "import tensorflow as tf\n",
    "tf.set_random_seed(777)  # for reproducibility\n",
    "\n",
    "x_data = [[73., 80., 75.],\n",
    "          [93., 88., 93.],\n",
    "          [89., 91., 90.],\n",
    "          [96., 98., 100.],\n",
    "          [73., 66., 70.]]\n",
    "y_data = [[152.],\n",
    "          [185.],\n",
    "          [180.],\n",
    "          [196.],\n",
    "          [142.]]\n",
    "\n",
    "\n",
    "# placeholders for a tensor that will be always fed.\n",
    "X = tf.placeholder(tf.float32, shape=[None, 3])\n",
    "Y = tf.placeholder(tf.float32, shape=[None, 1])\n",
    "\n",
    "W = tf.Variable(tf.random_normal([3, 1]), name='weight')\n",
    "b = tf.Variable(tf.random_normal([1]), name='bias')\n",
    "\n",
    "# Hypothesis\n",
    "hypothesis = tf.matmul(X, W) + b\n",
    "\n",
    "# Simplified cost/loss function\n",
    "cost = tf.reduce_mean(tf.square(hypothesis - Y))\n",
    "\n",
    "# Minimize\n",
    "optimizer = tf.train.GradientDescentOptimizer(learning_rate=1e-5)\n",
    "train = optimizer.minimize(cost)\n",
    "\n",
    "# Launch the graph in a session.\n",
    "sess = tf.Session()\n",
    "# Initializes global variables in the graph.\n",
    "sess.run(tf.global_variables_initializer())\n",
    "\n",
    "for step in range(2001):\n",
    "    cost_val, hy_val, _ = sess.run(\n",
    "        [cost, hypothesis, train], feed_dict={X: x_data, Y: y_data})\n",
    "    if step % 10 == 0:\n",
    "        print(step, \"Cost: \", cost_val, \"\\nPrediction:\\n\", hy_val)\n"
   ]
  },
  {
   "cell_type": "code",
   "execution_count": 80,
   "metadata": {},
   "outputs": [
    {
     "name": "stdout",
     "output_type": "stream",
     "text": [
      "0 2.201374 [0.68280774] [1.0115622]\n",
      "20 4.4958713e-05 [0.99870616] [1.0990992]\n",
      "40 4.152671e-08 [1.0001237] [1.0995275]\n",
      "60 3.5434006e-08 [1.0001218] [1.0995603]\n",
      "80 3.0965715e-08 [1.000114] [1.0995889]\n",
      "100 2.7073622e-08 [1.0001067] [1.0996155]\n",
      "120 2.3695929e-08 [1.0000995] [1.0996403]\n",
      "140 2.066854e-08 [1.000093] [1.0996641]\n",
      "160 1.808121e-08 [1.000087] [1.0996858]\n",
      "180 1.5756541e-08 [1.0000813] [1.0997065]\n",
      "200 1.3798217e-08 [1.000076] [1.0997256]\n",
      "220 1.2068233e-08 [1.0000712] [1.0997432]\n",
      "240 1.05511955e-08 [1.0000664] [1.0997599]\n",
      "260 9.155895e-09 [1.0000619] [1.0997761]\n",
      "280 8.0474365e-09 [1.0000579] [1.0997905]\n",
      "300 6.980281e-09 [1.0000541] [1.0998048]\n",
      "320 6.1236847e-09 [1.0000507] [1.0998169]\n",
      "340 5.3625286e-09 [1.0000474] [1.0998288]\n",
      "360 4.6461537e-09 [1.0000442] [1.0998405]\n",
      "380 4.126696e-09 [1.0000416] [1.09985]\n",
      "400 3.6036454e-09 [1.000039] [1.0998596]\n",
      "420 3.138257e-09 [1.0000364] [1.0998691]\n",
      "440 2.7575993e-09 [1.000034] [1.0998772]\n",
      "460 2.442448e-09 [1.0000318] [1.0998844]\n",
      "480 2.1507276e-09 [1.0000299] [1.0998915]\n",
      "500 1.8758441e-09 [1.0000279] [1.0998987]\n",
      "520 1.6213676e-09 [1.000026] [1.0999058]\n",
      "540 1.3807607e-09 [1.000024] [1.099913]\n",
      "560 1.2339114e-09 [1.0000225] [1.099918]\n",
      "580 1.0866188e-09 [1.0000213] [1.0999228]\n",
      "600 9.603809e-10 [1.00002] [1.0999275]\n",
      "620 8.3773555e-10 [1.0000187] [1.0999323]\n",
      "640 7.282438e-10 [1.0000174] [1.0999371]\n",
      "660 6.166374e-10 [1.0000161] [1.0999418]\n",
      "680 5.2023097e-10 [1.0000149] [1.0999465]\n",
      "700 4.710728e-10 [1.0000141] [1.0999491]\n",
      "720 4.2556395e-10 [1.0000135] [1.0999515]\n",
      "740 3.8971848e-10 [1.0000129] [1.0999539]\n",
      "760 3.4824552e-10 [1.0000122] [1.0999563]\n",
      "780 3.093305e-10 [1.0000116] [1.0999587]\n",
      "800 2.7639543e-10 [1.0000108] [1.099961]\n",
      "820 2.440629e-10 [1.0000101] [1.0999634]\n",
      "840 2.1464075e-10 [1.0000095] [1.0999658]\n",
      "860 1.8458195e-10 [1.000009] [1.0999682]\n",
      "880 1.561716e-10 [1.0000082] [1.0999706]\n",
      "900 1.3483259e-10 [1.0000076] [1.099973]\n",
      "920 1.09048416e-10 [1.0000069] [1.0999753]\n",
      "940 8.9505646e-11 [1.0000063] [1.0999777]\n",
      "960 7.504468e-11 [1.0000058] [1.0999795]\n",
      "980 7.504468e-11 [1.0000058] [1.0999795]\n",
      "1000 7.504468e-11 [1.0000058] [1.0999795]\n",
      "1020 7.504468e-11 [1.0000058] [1.0999795]\n",
      "1040 7.504468e-11 [1.0000058] [1.0999795]\n",
      "1060 7.504468e-11 [1.0000058] [1.0999795]\n",
      "1080 7.504468e-11 [1.0000058] [1.0999795]\n",
      "1100 7.504468e-11 [1.0000058] [1.0999795]\n",
      "1120 7.504468e-11 [1.0000058] [1.0999795]\n",
      "1140 7.504468e-11 [1.0000058] [1.0999795]\n",
      "1160 7.504468e-11 [1.0000058] [1.0999795]\n",
      "1180 7.504468e-11 [1.0000058] [1.0999795]\n",
      "1200 7.504468e-11 [1.0000058] [1.0999795]\n",
      "1220 7.504468e-11 [1.0000058] [1.0999795]\n",
      "1240 7.504468e-11 [1.0000058] [1.0999795]\n",
      "1260 7.504468e-11 [1.0000058] [1.0999795]\n",
      "1280 7.504468e-11 [1.0000058] [1.0999795]\n",
      "1300 7.504468e-11 [1.0000058] [1.0999795]\n",
      "1320 7.504468e-11 [1.0000058] [1.0999795]\n",
      "1340 7.504468e-11 [1.0000058] [1.0999795]\n",
      "1360 7.504468e-11 [1.0000058] [1.0999795]\n",
      "1380 7.504468e-11 [1.0000058] [1.0999795]\n",
      "1400 7.504468e-11 [1.0000058] [1.0999795]\n",
      "1420 7.504468e-11 [1.0000058] [1.0999795]\n",
      "1440 7.504468e-11 [1.0000058] [1.0999795]\n",
      "1460 7.504468e-11 [1.0000058] [1.0999795]\n",
      "1480 7.504468e-11 [1.0000058] [1.0999795]\n",
      "1500 7.504468e-11 [1.0000058] [1.0999795]\n",
      "1520 7.504468e-11 [1.0000058] [1.0999795]\n",
      "1540 7.504468e-11 [1.0000058] [1.0999795]\n",
      "1560 7.504468e-11 [1.0000058] [1.0999795]\n",
      "1580 7.504468e-11 [1.0000058] [1.0999795]\n",
      "1600 7.504468e-11 [1.0000058] [1.0999795]\n",
      "1620 7.504468e-11 [1.0000058] [1.0999795]\n",
      "1640 7.504468e-11 [1.0000058] [1.0999795]\n",
      "1660 7.504468e-11 [1.0000058] [1.0999795]\n",
      "1680 7.504468e-11 [1.0000058] [1.0999795]\n",
      "1700 7.504468e-11 [1.0000058] [1.0999795]\n",
      "1720 7.504468e-11 [1.0000058] [1.0999795]\n",
      "1740 7.504468e-11 [1.0000058] [1.0999795]\n",
      "1760 7.504468e-11 [1.0000058] [1.0999795]\n",
      "1780 7.504468e-11 [1.0000058] [1.0999795]\n",
      "1800 7.504468e-11 [1.0000058] [1.0999795]\n",
      "1820 7.504468e-11 [1.0000058] [1.0999795]\n",
      "1840 7.504468e-11 [1.0000058] [1.0999795]\n",
      "1860 7.504468e-11 [1.0000058] [1.0999795]\n",
      "1880 7.504468e-11 [1.0000058] [1.0999795]\n",
      "1900 7.504468e-11 [1.0000058] [1.0999795]\n",
      "1920 7.504468e-11 [1.0000058] [1.0999795]\n",
      "1940 7.504468e-11 [1.0000058] [1.0999795]\n",
      "1960 7.504468e-11 [1.0000058] [1.0999795]\n",
      "1980 7.504468e-11 [1.0000058] [1.0999795]\n",
      "2000 7.504468e-11 [1.0000058] [1.0999795]\n"
     ]
    }
   ],
   "source": [
    "import tensorflow as tf\n",
    "tf.set_random_seed(777)  # for reproducibility\n",
    "\n",
    "# Try to find values for W and b to compute Y = W * X + b\n",
    "W = tf.Variable(tf.random_normal([1]), name=\"weight\")\n",
    "b = tf.Variable(tf.random_normal([1]), name=\"bias\")\n",
    "\n",
    "# placeholders for a tensor that will be always fed using feed_dict\n",
    "# See http://stackoverflow.com/questions/36693740/\n",
    "X = tf.placeholder(tf.float32, shape=[None])\n",
    "Y = tf.placeholder(tf.float32, shape=[None])\n",
    "\n",
    "# Our hypothesis is X * W + b\n",
    "hypothesis = X * W + b\n",
    "\n",
    "# cost/loss function\n",
    "cost = tf.reduce_mean(tf.square(hypothesis - Y))\n",
    "\n",
    "# optimizer\n",
    "train = tf.train.GradientDescentOptimizer(learning_rate=0.01).minimize(cost)\n",
    "\n",
    "# Launch the graph in a session.\n",
    "sess=tf.Session()\n",
    "sess.run(tf.global_variables_initializer())\n",
    "    \n",
    "for step in range(2001):\n",
    "        _, cost_val, W_val, b_val = sess.run(\n",
    "            [train, cost, W, b],\n",
    "            feed_dict={X: [1, 2, 3, 4, 5], Y: [2.1, 3.1, 4.1, 5.1, 6.1]},\n",
    "        )\n",
    "        if step % 20 == 0:\n",
    "            print(step, cost_val, W_val, b_val)\n"
   ]
  },
  {
   "cell_type": "code",
   "execution_count": null,
   "metadata": {},
   "outputs": [],
   "source": []
  }
 ],
 "metadata": {
  "kernelspec": {
   "display_name": "Python [conda env:tensorflow]",
   "language": "python",
   "name": "conda-env-tensorflow-py"
  },
  "language_info": {
   "codemirror_mode": {
    "name": "ipython",
    "version": 3
   },
   "file_extension": ".py",
   "mimetype": "text/x-python",
   "name": "python",
   "nbconvert_exporter": "python",
   "pygments_lexer": "ipython3",
   "version": "3.5.6"
  }
 },
 "nbformat": 4,
 "nbformat_minor": 2
}
