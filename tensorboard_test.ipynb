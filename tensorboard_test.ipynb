{
 "cells": [
  {
   "cell_type": "code",
   "execution_count": 1,
   "metadata": {},
   "outputs": [
    {
     "data": {
      "text/plain": [
       "'\\n처음에는 hidden layer를 2개만 하고 NN도 그다지 wide하게 하지 않았다. learning rate도 0.001로 했었다.\\n그래서 accuracy가 0.94정도로 나왔었다. \\nlayer 갯수를 늘리고 범위도 넓게 하고 learning rate도 약간 낮추었다. sigmoid를 relu로 바꾸고, GradientOpti~를 Adam으로 바꾸고, \\nrandom을 xavier initializer로 바꾸었다\\n또한 overfitting을 막기위해 dropout을 사용했더니 처리 속도는 늦어졌지만 아래와 같이 accuracy가 0.9833이 나왔다. 또한 cost값도 훨씬 작아졌다.\\n0.985가 나온 친구들은 레이어도 더 늘리고 범위도 넓게 하고 learning rate도 더 적게 했다는데 \\n처리속도가 너무 느려서 나는 이정도만 해도 굉장히 높아졌다고 생각한다.\\ntensorboard를 사용하려면 코드를 많이 고쳐야해서 오늘은 시간이 부족해서 못했다. \\n제출 후에 다시 자료를 보며 배워서 fashion mnist에 적용해봐야겠다.\\n\\n아래 코드에도 짤막하게 주석을 달아놓았다.\\n'"
      ]
     },
     "execution_count": 1,
     "metadata": {},
     "output_type": "execute_result"
    }
   ],
   "source": [
    "'''\n",
    "처음에는 hidden layer를 2개만 하고 NN도 그다지 wide하게 하지 않았다. learning rate도 0.001로 했었다.\n",
    "그래서 accuracy가 0.94정도로 나왔었다. \n",
    "layer 갯수를 늘리고 범위도 넓게 하고 learning rate도 약간 낮추었다. sigmoid를 relu로 바꾸고, GradientOpti~를 Adam으로 바꾸고, \n",
    "random을 xavier initializer로 바꾸었다\n",
    "또한 overfitting을 막기위해 dropout을 사용했더니 처리 속도는 늦어졌지만 아래와 같이 accuracy가 0.9833이 나왔다. 또한 cost값도 훨씬 작아졌다.\n",
    "0.985가 나온 친구들은 레이어도 더 늘리고 범위도 넓게 하고 learning rate도 더 적게 했다는데 \n",
    "처리속도가 너무 느려서 나는 이정도만 해도 굉장히 높아졌다고 생각한다.\n",
    "tensorboard를 사용하려면 코드를 많이 고쳐야해서 오늘은 시간이 부족해서 못했다. \n",
    "제출 후에 다시 자료를 보며 배워서 fashion mnist에 적용해봐야겠다.\n",
    "\n",
    "아래 코드에도 짤막하게 주석을 달아놓았다.\n",
    "'''"
   ]
  },
  {
   "cell_type": "code",
   "execution_count": 2,
   "metadata": {},
   "outputs": [
    {
     "name": "stdout",
     "output_type": "stream",
     "text": [
      "WARNING:tensorflow:From <ipython-input-2-35c58ea6fbd7>:9: read_data_sets (from tensorflow.contrib.learn.python.learn.datasets.mnist) is deprecated and will be removed in a future version.\n",
      "Instructions for updating:\n",
      "Please use alternatives such as official/mnist/dataset.py from tensorflow/models.\n",
      "WARNING:tensorflow:From C:\\Users\\dasom\\Anaconda3\\envs\\tensorflow\\lib\\site-packages\\tensorflow\\contrib\\learn\\python\\learn\\datasets\\mnist.py:260: maybe_download (from tensorflow.contrib.learn.python.learn.datasets.base) is deprecated and will be removed in a future version.\n",
      "Instructions for updating:\n",
      "Please write your own downloading logic.\n",
      "WARNING:tensorflow:From C:\\Users\\dasom\\Anaconda3\\envs\\tensorflow\\lib\\site-packages\\tensorflow\\contrib\\learn\\python\\learn\\datasets\\mnist.py:262: extract_images (from tensorflow.contrib.learn.python.learn.datasets.mnist) is deprecated and will be removed in a future version.\n",
      "Instructions for updating:\n",
      "Please use tf.data to implement this functionality.\n",
      "Extracting MNIST_data/train-images-idx3-ubyte.gz\n",
      "WARNING:tensorflow:From C:\\Users\\dasom\\Anaconda3\\envs\\tensorflow\\lib\\site-packages\\tensorflow\\contrib\\learn\\python\\learn\\datasets\\mnist.py:267: extract_labels (from tensorflow.contrib.learn.python.learn.datasets.mnist) is deprecated and will be removed in a future version.\n",
      "Instructions for updating:\n",
      "Please use tf.data to implement this functionality.\n",
      "Extracting MNIST_data/train-labels-idx1-ubyte.gz\n",
      "WARNING:tensorflow:From C:\\Users\\dasom\\Anaconda3\\envs\\tensorflow\\lib\\site-packages\\tensorflow\\contrib\\learn\\python\\learn\\datasets\\mnist.py:110: dense_to_one_hot (from tensorflow.contrib.learn.python.learn.datasets.mnist) is deprecated and will be removed in a future version.\n",
      "Instructions for updating:\n",
      "Please use tf.one_hot on tensors.\n",
      "Extracting MNIST_data/t10k-images-idx3-ubyte.gz\n",
      "Extracting MNIST_data/t10k-labels-idx1-ubyte.gz\n",
      "WARNING:tensorflow:From C:\\Users\\dasom\\Anaconda3\\envs\\tensorflow\\lib\\site-packages\\tensorflow\\contrib\\learn\\python\\learn\\datasets\\mnist.py:290: DataSet.__init__ (from tensorflow.contrib.learn.python.learn.datasets.mnist) is deprecated and will be removed in a future version.\n",
      "Instructions for updating:\n",
      "Please use alternatives such as official/mnist/dataset.py from tensorflow/models.\n"
     ]
    }
   ],
   "source": [
    "import tensorflow as tf\n",
    "import matplotlib.pyplot as plt\n",
    "import random\n",
    "import math\n",
    "from tensorflow.examples.tutorials.mnist import input_data\n",
    "\n",
    "tf.set_random_seed(777)  \n",
    "tf.reset_default_graph() #이 함수를 써주지 않으면 Xavier를 쓸 때 초기화가 안돼서 자꾸 경고문구가 뜬다\n",
    "mnist = input_data.read_data_sets(\"MNIST_data/\", one_hot=True)\n",
    "\n",
    "#Xavier initializer\n",
    "#슬라이드에 나와있는 대로 하면 자꾸 오류가 생겨서 따로 알려준 github 링크로 들어가서 그대로 따라했다\n",
    "def xavier_init(n_inputs, n_outputs, uniform=True):\n",
    "  if uniform:\n",
    "    init_range = math.sqrt(6.0 / (n_inputs + n_outputs))\n",
    "    return tf.random_uniform_initializer(-init_range, init_range)\n",
    "  else:\n",
    "    stddev = math.sqrt(3.0 / (n_inputs + n_outputs))\n",
    "    return tf.truncated_normal_initializer(stddev=stddev)"
   ]
  },
  {
   "cell_type": "code",
   "execution_count": 3,
   "metadata": {},
   "outputs": [],
   "source": [
    "#미리 각종 상수나 식들을 적어놓음\n",
    "learning_rate = 0.0007\n",
    "training_epochs = 15\n",
    "batch_size = 100\n",
    "total_batch = int(mnist.train.num_examples / batch_size)\n",
    "keep_prob = tf.placeholder(tf.float32)\n",
    "dropout_rate = tf.placeholder(\"float\")\n"
   ]
  },
  {
   "cell_type": "code",
   "execution_count": 4,
   "metadata": {},
   "outputs": [
    {
     "name": "stdout",
     "output_type": "stream",
     "text": [
      "WARNING:tensorflow:From C:\\Users\\dasom\\Anaconda3\\envs\\tensorflow\\lib\\site-packages\\tensorflow\\python\\framework\\op_def_library.py:263: colocate_with (from tensorflow.python.framework.ops) is deprecated and will be removed in a future version.\n",
      "Instructions for updating:\n",
      "Colocations handled automatically by placer.\n",
      "WARNING:tensorflow:From <ipython-input-4-d26b066550c7>:9: calling dropout (from tensorflow.python.ops.nn_ops) with keep_prob is deprecated and will be removed in a future version.\n",
      "Instructions for updating:\n",
      "Please use `rate` instead of `keep_prob`. Rate should be set to `rate = 1 - keep_prob`.\n",
      "WARNING:tensorflow:From <ipython-input-4-d26b066550c7>:35: softmax_cross_entropy_with_logits (from tensorflow.python.ops.nn_ops) is deprecated and will be removed in a future version.\n",
      "Instructions for updating:\n",
      "\n",
      "Future major versions of TensorFlow will allow gradients to flow\n",
      "into the labels input on backprop by default.\n",
      "\n",
      "See `tf.nn.softmax_cross_entropy_with_logits_v2`.\n",
      "\n"
     ]
    },
    {
     "data": {
      "text/plain": [
       "<tf.Tensor 'Accuracy:0' shape=() dtype=string>"
      ]
     },
     "execution_count": 4,
     "metadata": {},
     "output_type": "execute_result"
    }
   ],
   "source": [
    "with tf.name_scope(\"Input_Layer\"):\n",
    "    X = tf.placeholder(tf.float32, [None, 784])\n",
    "    Y = tf.placeholder(tf.float32, [None, 10])\n",
    "\n",
    "with tf.name_scope(\"H_Layer1\"):\n",
    "    W1 = tf.get_variable(\"W1\", shape=[784, 512], initializer=xavier_init(784, 512))\n",
    "    B1 = tf.Variable(tf.random_normal([512]))\n",
    "    _L1 = tf.nn.relu(tf.add(tf.matmul(X,W1),B1))\n",
    "    L1 = tf.nn.dropout(_L1, dropout_rate)\n",
    "\n",
    "with tf.name_scope(\"H_Layer2\"):\n",
    "    W2 = tf.get_variable(\"W2\", shape=[512, 400], initializer=xavier_init(512, 400))\n",
    "    B2 = tf.Variable(tf.random_normal([400]))\n",
    "    _L2 = tf.nn.relu(tf.add(tf.matmul(L1, W2),B2)) # Hidden layer with ReLU activation\n",
    "    L2 = tf.nn.dropout(_L2, dropout_rate)\n",
    "\n",
    "with tf.name_scope(\"H_Layer3\"):    \n",
    "    W3 = tf.get_variable(\"W3\", shape=[400, 256], initializer=xavier_init(400, 256))\n",
    "    B3 = tf.Variable(tf.random_normal([256]))\n",
    "    _L3 = tf.nn.relu(tf.add(tf.matmul(L2, W3),B3)) # Hidden layer with ReLU activation\n",
    "    L3 = tf.nn.dropout(_L3, dropout_rate)\n",
    "\n",
    "with tf.name_scope(\"H_Layer4\"):\n",
    "    W4 = tf.get_variable(\"W4\", shape=[256, 256], initializer=xavier_init(256, 256))\n",
    "    B4 = tf.Variable(tf.random_normal([256]))\n",
    "    _L4 = tf.nn.relu(tf.add(tf.matmul(L3, W4),B4)) # Hidden layer with ReLU activation\n",
    "    L4 = tf.nn.dropout(_L4, dropout_rate)\n",
    "\n",
    "with tf.name_scope(\"OUTPUT\"):\n",
    "    W5 = tf.get_variable(\"W5\", shape=[256, 10], initializer=xavier_init(256, 10))\n",
    "    B5 = tf.Variable(tf.random_normal([10]))\n",
    "    hypothesis = tf.add(tf.matmul(L4, W5), B5)\n",
    "\n",
    "cost = tf.reduce_mean(tf.nn.softmax_cross_entropy_with_logits(\n",
    "   logits=hypothesis, labels=Y))\n",
    "optimizer = tf.train.AdamOptimizer(learning_rate=learning_rate).minimize(cost)\n",
    "tf.summary.scalar(\"Cost\", cost)\n",
    "\n",
    "correct_prediction = tf.equal(tf.argmax(hypothesis, 1), tf.argmax(Y, 1))\n",
    "accuracy = tf.reduce_mean(tf.cast(correct_prediction, tf.float32))\n",
    "tf.summary.scalar(\"Accuracy\", accuracy)\n"
   ]
  },
  {
   "cell_type": "code",
   "execution_count": 5,
   "metadata": {},
   "outputs": [
    {
     "name": "stdout",
     "output_type": "stream",
     "text": [
      "Epoch: 0001 cost = 0.571779967\n",
      "Epoch: 0002 cost = 0.197629976\n",
      "Epoch: 0003 cost = 0.145616564\n",
      "Epoch: 0004 cost = 0.116093301\n",
      "Epoch: 0005 cost = 0.100994202\n",
      "Epoch: 0006 cost = 0.085440099\n",
      "Epoch: 0007 cost = 0.077641770\n",
      "Epoch: 0008 cost = 0.067155001\n",
      "Epoch: 0009 cost = 0.060278965\n",
      "Epoch: 0010 cost = 0.058179932\n",
      "Epoch: 0011 cost = 0.053462292\n",
      "Epoch: 0012 cost = 0.050344852\n",
      "Epoch: 0013 cost = 0.043742284\n",
      "Epoch: 0014 cost = 0.044113170\n",
      "Epoch: 0015 cost = 0.039997554\n",
      "Learning Finished!\n",
      "Accuracy: 0.9845\n",
      "Label:  [4]\n",
      "Prediction:  [4]\n"
     ]
    },
    {
     "data": {
      "image/png": "[encoded data removed]",
      "text/plain": [
       "<Figure size 432x288 with 1 Axes>"
      ]
     },
     "metadata": {
      "needs_background": "light"
     },
     "output_type": "display_data"
    }
   ],
   "source": [
    "sess = tf.Session()\n",
    "sess.run(tf.global_variables_initializer())\n",
    "\n",
    "merged_summary = tf.summary.merge_all()\n",
    "writer = tf.summary.FileWriter(\"./logs/test\")\n",
    "writer.add_graph(sess.graph)  # Show the graph\n",
    "\n",
    "for epoch in range(training_epochs):\n",
    "    avg_cost = 0\n",
    "\n",
    "    for i in range(total_batch):\n",
    "        batch_xs, batch_ys = mnist.train.next_batch(batch_size)\n",
    "        feed_dict = {X: batch_xs, Y: batch_ys, dropout_rate: 0.7}\n",
    "        c, _ = sess.run([cost, optimizer], feed_dict=feed_dict)\n",
    "        avg_cost += c / total_batch\n",
    "\n",
    "    print('Epoch:', '%04d' % (epoch + 1), 'cost =', '{:.9f}'.format(avg_cost))\n",
    "\n",
    "print('Learning Finished!')\n",
    "\n",
    "print('Accuracy:',accuracy.eval(session=sess, feed_dict={X: mnist.test.images, Y: mnist.test.labels, dropout_rate: 1}))\n",
    "# Get one and predict\n",
    "r = random.randint(0, mnist.test.num_examples - 1)\n",
    "print(\"Label: \", sess.run(tf.argmax(mnist.test.labels[r:r + 1], 1)))\n",
    "print(\"Prediction: \", sess.run(tf.argmax(hypothesis, 1), feed_dict={X: mnist.test.images[r:r + 1], dropout_rate: 1}))\n",
    "\n",
    "plt.imshow(mnist.test.images[r:r + 1].reshape(28, 28), cmap='Greys', interpolation='nearest')\n",
    "plt.show()"
   ]
  }
 ],
 "metadata": {
  "kernelspec": {
   "display_name": "Python [conda env:tensorflow]",
   "language": "python",
   "name": "conda-env-tensorflow-py"
  },
  "language_info": {
   "codemirror_mode": {
    "name": "ipython",
    "version": 3
   },
   "file_extension": ".py",
   "mimetype": "text/x-python",
   "name": "python",
   "nbconvert_exporter": "python",
   "pygments_lexer": "ipython3",
   "version": "3.5.6"
  }
 },
 "nbformat": 4,
 "nbformat_minor": 2
}
