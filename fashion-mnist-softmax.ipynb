{
 "cells": [
  {
   "cell_type": "code",
   "execution_count": 1,
   "metadata": {
    "_cell_guid": "c130e2cf-b6bf-4b5f-92e6-2c4e4773f150",
    "_uuid": "09630d1dc35e2d8336bb9ecf421352fe92033633"
   },
   "outputs": [],
   "source": [
    "import numpy as np \n",
    "import pandas as pd \n",
    "import matplotlib.pyplot as plt\n",
    "import tensorflow as tf\n"
   ]
  },
  {
   "cell_type": "code",
   "execution_count": 2,
   "metadata": {
    "_cell_guid": "4bf8ae27-c53e-4231-83cd-92840af97a49",
    "_uuid": "aa2bc1fea27cbb7ce02720bc13f29393a4c2ac41"
   },
   "outputs": [],
   "source": [
    "# read the csv data\n",
    "Mnist_data = np.loadtxt(\"fashionmnist/fashion-mnist_train.csv\",delimiter=',', dtype=np.float32)\n",
    "Mnist_test = np.loadtxt(\"fashionmnist/fashion-mnist_test.csv\",delimiter=',', dtype=np.float32)"
   ]
  },
  {
   "cell_type": "code",
   "execution_count": 3,
   "metadata": {
    "_cell_guid": "81452e21-c3a5-49d7-b9e9-4cafa2ed79fa",
    "_uuid": "a7f8b5de728de9974e39646cb3b24546e646eabf",
    "scrolled": true
   },
   "outputs": [],
   "source": [
    "# Get the Training data\n",
    "Train_x = Mnist_data[:, 1:]\n",
    "Train_y = Mnist_data[:, 0]\n",
    "\n",
    "Test_x = Mnist_test[:, 1:]\n",
    "Test_y = Mnist_test[:, 0]\n",
    "# Set y one-hot vector\n",
    "Train_y_one_hot = tf.one_hot(Train_y, depth=10, name=\"One_hot_op\")\n",
    "Test_y_one_hot = tf.one_hot(Test_y, depth=10, name='testonehot_op')\n"
   ]
  },
  {
   "cell_type": "code",
   "execution_count": 4,
   "metadata": {
    "_cell_guid": "88285940-3827-4735-b0a7-3c8117082089",
    "_uuid": "41b8070f0ba60565b148517112e33dcdd4e02a63"
   },
   "outputs": [
    {
     "name": "stdout",
     "output_type": "stream",
     "text": [
      "WARNING:tensorflow:From C:\\Users\\dasom\\Anaconda3\\envs\\tensorflow\\lib\\site-packages\\tensorflow\\python\\framework\\op_def_library.py:263: colocate_with (from tensorflow.python.framework.ops) is deprecated and will be removed in a future version.\n",
      "Instructions for updating:\n",
      "Colocations handled automatically by placer.\n"
     ]
    }
   ],
   "source": [
    "# Let's struct the model first.\n",
    "with tf.name_scope('Variable'):\n",
    "    X = tf.placeholder(tf.float32, [None, 784])\n",
    "    Y = tf.placeholder(tf.float32, [None, 10])\n",
    "\n",
    "    \n",
    "with tf.name_scope('Output'):\n",
    "    W = tf.Variable(initial_value=tf.random_normal([784, 10], stddev=0.1), name='W')\n",
    "    b = tf.Variable(tf.zeros([10]), name='b')\n",
    "    Z = tf.matmul(X, W) + b\n",
    "    hypothesis = tf.nn.softmax(Z)\n",
    "    \n",
    "\n",
    "# loss function\n",
    "with tf.name_scope('loss'):\n",
    "    loss = tf.reduce_mean(tf.nn.softmax_cross_entropy_with_logits_v2(labels=Y, logits = Z, name='loss'))\n",
    "# Accuracy function\n",
    "with tf.name_scope('Accuracy'):\n",
    "    Correct_prediction = tf.equal(tf.argmax(hypothesis,1), tf.argmax(Y,1))\n",
    "    Accuracy = tf.reduce_mean(tf.cast(Correct_prediction,dtype=tf.float32))\n",
    "# train step\n",
    "with tf.name_scope('Train'):\n",
    "    optimizer = tf.train.GradientDescentOptimizer(0.003).minimize(loss)\n",
    "    \n",
    "# run the model\n",
    "init = tf.global_variables_initializer()   \n",
    "\n",
    "batch_size = 100\n",
    "num_epoch = 50\n",
    "num_iterations = int(len(Mnist_data) / batch_size)"
   ]
  },
  {
   "cell_type": "code",
   "execution_count": null,
   "metadata": {
    "scrolled": false
   },
   "outputs": [
    {
     "name": "stdout",
     "output_type": "stream",
     "text": [
      "Epoch: 0001, Cost: 578.314796473\n",
      "Epoch: 0002, Cost: 387.964984169\n",
      "Epoch: 0003, Cost: 368.754023641\n",
      "Epoch: 0004, Cost: 351.653499126\n",
      "Epoch: 0005, Cost: 337.090312602\n",
      "Epoch: 0006, Cost: 324.869935214\n",
      "Epoch: 0007, Cost: 335.111566397\n",
      "Epoch: 0008, Cost: 322.164790433\n",
      "Epoch: 0009, Cost: 312.970457357\n",
      "Epoch: 0010, Cost: 320.720229988\n",
      "Epoch: 0011, Cost: 310.455270265\n",
      "Epoch: 0012, Cost: 308.036747036\n",
      "Epoch: 0013, Cost: 304.181277981\n",
      "Epoch: 0014, Cost: 305.828589706\n",
      "Epoch: 0015, Cost: 305.628714193\n",
      "Epoch: 0016, Cost: 291.234431210\n",
      "Epoch: 0017, Cost: 319.011708266\n",
      "Epoch: 0018, Cost: 314.380015272\n",
      "Epoch: 0019, Cost: 303.854268309\n",
      "Epoch: 0020, Cost: 302.349612796\n",
      "Epoch: 0021, Cost: 299.933966681\n",
      "Epoch: 0022, Cost: 302.204395682\n",
      "Epoch: 0023, Cost: 286.744016895\n",
      "Epoch: 0024, Cost: 310.144509341\n",
      "Epoch: 0025, Cost: 293.979041551\n",
      "Epoch: 0026, Cost: 292.020312182\n",
      "Epoch: 0027, Cost: 286.328688768\n",
      "Epoch: 0028, Cost: 296.368882497\n",
      "Epoch: 0029, Cost: 292.388868618\n",
      "Epoch: 0030, Cost: 294.505863832\n"
     ]
    }
   ],
   "source": [
    "sess = tf.Session()\n",
    "sess.run(init)\n",
    "\n",
    "\n",
    "Train_y_one_hot =sess.run(Train_y_one_hot)\n",
    "Test_y_one_hot = sess.run(Test_y_one_hot)\n",
    "\n",
    "for epoch in range(num_epoch):\n",
    "    avg_cost = 0\n",
    "    for i in range(600):\n",
    "        \n",
    "        batch_x = Train_x[i*100:(i+1)*100-1, :]\n",
    "        batch_y = Train_y_one_hot[i*100:(i+1)*100-1, :]\n",
    "        _, cost_val = sess.run([optimizer, loss], feed_dict={X: batch_x, Y: batch_y})\n",
    "        avg_cost += cost_val / num_iterations\n",
    "\n",
    "    print(\"Epoch: {:04d}, Cost: {:.9f}\".format(epoch + 1, avg_cost))\n",
    "\n",
    "print(\"Learning finished\")\n",
    "\n",
    "# Test the model using test sets\n",
    "print(\n",
    "    \"Accuracy: \",\n",
    "    Accuracy.eval(\n",
    "        session=sess, feed_dict={X: Test_x, Y: Test_y_one_hot}\n",
    "    ),\n",
    ")\n"
   ]
  },
  {
   "cell_type": "code",
   "execution_count": null,
   "metadata": {
    "_cell_guid": "060a9103-8bf5-48eb-9169-5c39a6b1e348",
    "_uuid": "057a9c7f1bf7445ec1ca8c581babe8e4b411eb17"
   },
   "outputs": [],
   "source": [
    "# Get one and predict\n",
    "Samples = np.random.randint(0, len(Test_x) - 1,size=10)\n",
    "\n",
    "for r in Samples:\n",
    "    Label = sess.run(tf.argmax(Y, 1),feed_dict={Y: Test_y_one_hot[r : r + 1]})\n",
    "    print(\"Label: \", Label)\n",
    "    Pred = sess.run(tf.argmax(hypothesis, 1), feed_dict={X: Test_x[r : r + 1]})\n",
    "    print(\"Prediction: \", Pred)\n",
    "\n",
    "    plt.imshow(\n",
    "        Test_x[r : r + 1].reshape(28, 28),\n",
    "        cmap=\"Greys\",\n",
    "        interpolation=\"nearest\",\n",
    "    )\n",
    "    plt.show()"
   ]
  }
 ],
 "metadata": {
  "kernelspec": {
   "display_name": "Python [default]",
   "language": "python",
   "name": "python3"
  },
  "language_info": {
   "codemirror_mode": {
    "name": "ipython",
    "version": 3
   },
   "file_extension": ".py",
   "mimetype": "text/x-python",
   "name": "python",
   "nbconvert_exporter": "python",
   "pygments_lexer": "ipython3",
   "version": "3.5.6"
  }
 },
 "nbformat": 4,
 "nbformat_minor": 1
}
